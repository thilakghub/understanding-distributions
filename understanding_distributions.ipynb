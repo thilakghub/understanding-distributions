{
 "cells": [
  {
   "cell_type": "code",
   "execution_count": 83,
   "metadata": {},
   "outputs": [],
   "source": [
    "import random\n",
    "import numpy as np\n",
    "from matplotlib import pyplot as plt\n",
    "# import seaborn as sns"
   ]
  },
  {
   "cell_type": "markdown",
   "metadata": {},
   "source": [
    "# Discrete Distrbutions"
   ]
  },
  {
   "cell_type": "markdown",
   "metadata": {},
   "source": [
    "## Bernoulli distribution"
   ]
  },
  {
   "cell_type": "code",
   "execution_count": 2,
   "metadata": {},
   "outputs": [],
   "source": [
    "class bernoulli():\n",
    "    def __init__(self, p, size):\n",
    "        self.p = p # probability of occurence\n",
    "        self.size = size # size of distribution\n",
    "     \n",
    "    def random_values(self):\n",
    "        \"\"\"\n",
    "        random value generator\n",
    "        \"\"\"\n",
    "        dist = np.array([])\n",
    "        for i in range(0,self.size):\n",
    "            if random.random() <= self.p: a=1\n",
    "            else: a=0\n",
    "            dist = np.append(dist,a)\n",
    "        return dist\n",
    "    \n",
    "    def mean(self):\n",
    "        \"\"\"\n",
    "        expected value of bernoulli distribution\n",
    "        \"\"\"\n",
    "        return self.p\n",
    "    \n",
    "    def var(self):\n",
    "        \"\"\"\n",
    "        variance of bernoulli distribution\n",
    "        \"\"\"\n",
    "        return self.p*(1-self.p)\n",
    "    \n",
    "    def std(self):\n",
    "        \"\"\"\n",
    "        standard deviation of bernoulli distribution\n",
    "        \"\"\"\n",
    "        return self.var()**(1/2)"
   ]
  },
  {
   "cell_type": "code",
   "execution_count": 4,
   "metadata": {},
   "outputs": [],
   "source": [
    "x = bernoulli(p=0.6, size=100)"
   ]
  },
  {
   "cell_type": "code",
   "execution_count": 5,
   "metadata": {},
   "outputs": [
    {
     "data": {
      "text/plain": [
       "array([1., 1., 0., 0., 0., 1., 0., 0., 1., 0., 0., 0., 0., 1., 1., 1., 1.,\n",
       "       0., 1., 1., 0., 1., 1., 1., 0., 1., 1., 1., 1., 1., 1., 1., 1., 0.,\n",
       "       1., 1., 1., 0., 0., 1., 1., 1., 1., 1., 1., 1., 0., 1., 0., 1., 0.,\n",
       "       1., 1., 0., 1., 1., 0., 0., 0., 1., 0., 1., 1., 0., 0., 1., 1., 1.,\n",
       "       1., 0., 1., 1., 1., 1., 1., 0., 0., 0., 1., 1., 0., 1., 0., 1., 1.,\n",
       "       0., 0., 1., 1., 1., 1., 0., 1., 1., 1., 1., 0., 0., 0., 1.])"
      ]
     },
     "execution_count": 5,
     "metadata": {},
     "output_type": "execute_result"
    }
   ],
   "source": [
    "x.random_values()"
   ]
  },
  {
   "cell_type": "code",
   "execution_count": 6,
   "metadata": {},
   "outputs": [
    {
     "data": {
      "text/plain": [
       "(0.6, 0.4898979485566356)"
      ]
     },
     "execution_count": 6,
     "metadata": {},
     "output_type": "execute_result"
    }
   ],
   "source": [
    "# theoretical calculation\n",
    "x.mean(), x.std()"
   ]
  },
  {
   "cell_type": "code",
   "execution_count": 7,
   "metadata": {},
   "outputs": [
    {
     "data": {
      "text/plain": [
       "(0.68, 0.4918333050943175)"
      ]
     },
     "execution_count": 7,
     "metadata": {},
     "output_type": "execute_result"
    }
   ],
   "source": [
    "# calculations from actual data\n",
    "np.mean(x.random_values()), np.std(x.random_values())"
   ]
  },
  {
   "cell_type": "code",
   "execution_count": 9,
   "metadata": {},
   "outputs": [
    {
     "data": {
      "image/png": "[encoded data removed]",
      "text/plain": [
       "<Figure size 720x504 with 1 Axes>"
      ]
     },
     "metadata": {
      "needs_background": "light"
     },
     "output_type": "display_data"
    }
   ],
   "source": [
    "plt.figure(figsize=(10,7))\n",
    "plt.hist(x.random_values())\n",
    "plt.show()"
   ]
  },
  {
   "cell_type": "code",
   "execution_count": null,
   "metadata": {},
   "outputs": [],
   "source": []
  },
  {
   "cell_type": "markdown",
   "metadata": {},
   "source": [
    "## Binomial distribution"
   ]
  },
  {
   "cell_type": "markdown",
   "metadata": {},
   "source": [
    "The binomial distribution may be thought of as the sum of outcomes of things that follow a Bernoulli distribution. Toss a fair coin 20 times; how many times does it come up heads? This count is an outcome that follows the binomial distribution. Its parameters are n, the number of trials, and p, the probability of a “success” (here: heads, or 1). Each flip is a Bernoulli-distributed outcome, or trial"
   ]
  },
  {
   "cell_type": "code",
   "execution_count": 19,
   "metadata": {},
   "outputs": [],
   "source": [
    "class binomial():\n",
    "    def __init__(self, p, n, size):\n",
    "        self.p = p # probability of occurence\n",
    "        self.n = n # number of trials\n",
    "        self.size = size # size of distribution\n",
    "     \n",
    "    def random_values(self):\n",
    "        \"\"\"\n",
    "        random value generator\n",
    "        \"\"\"\n",
    "        dist = np.array([])\n",
    "        for i in range(0,self.size):\n",
    "            a = self.random_values_attempt()\n",
    "            dist = np.append(dist, a)\n",
    "        return dist\n",
    "\n",
    "    def random_values_attempt(self):\n",
    "        \"\"\"\n",
    "        random value generator for each attempt\n",
    "        \"\"\"\n",
    "        dist = np.array([])\n",
    "        for i in range(0,self.n):\n",
    "            if random.random() <= self.p: a=1\n",
    "            else: a=0\n",
    "            dist = np.append(dist,a)\n",
    "        return sum(dist)\n",
    "    \n",
    "    def mean(self):\n",
    "        \"\"\"\n",
    "        expected value of binomial distribution\n",
    "        \"\"\"\n",
    "        return self.n*self.p\n",
    "    \n",
    "    def var(self):\n",
    "        \"\"\"\n",
    "        variance of binomial distribution\n",
    "        \"\"\"\n",
    "        return self.n*self.p*(1-self.p)\n",
    "    \n",
    "    def std(self):\n",
    "        \"\"\"\n",
    "        standard deviation of binomial distribution\n",
    "        \"\"\"\n",
    "        return self.var()**(1/2)"
   ]
  },
  {
   "cell_type": "code",
   "execution_count": 39,
   "metadata": {},
   "outputs": [],
   "source": [
    "x = binomial(p=0.4, n=40, size=100)"
   ]
  },
  {
   "cell_type": "code",
   "execution_count": 40,
   "metadata": {},
   "outputs": [
    {
     "data": {
      "text/plain": [
       "array([16., 15., 19., 21., 15., 16., 15., 15., 12., 16., 13., 15., 13.,\n",
       "       12., 21., 16., 14.,  7., 19., 25., 21., 20., 17., 11., 14., 17.,\n",
       "       20., 13., 14., 10., 17., 16., 18., 18., 16., 17., 17., 13., 14.,\n",
       "       19., 23., 18., 15., 19., 14., 18., 19., 13., 13., 11., 19., 20.,\n",
       "       18., 14., 20., 13., 15., 15., 13., 19., 16., 17., 19., 20., 13.,\n",
       "       17., 19., 19., 15., 17., 16., 15., 19., 14., 20., 19., 15., 17.,\n",
       "       16., 14., 21., 21., 18., 18., 16.,  9., 14., 19., 19., 18., 15.,\n",
       "       15., 14., 16., 13., 13., 10.,  8., 16., 12.])"
      ]
     },
     "execution_count": 40,
     "metadata": {},
     "output_type": "execute_result"
    }
   ],
   "source": [
    "x.random_values()"
   ]
  },
  {
   "cell_type": "code",
   "execution_count": 41,
   "metadata": {},
   "outputs": [
    {
     "data": {
      "text/plain": [
       "(16.0, 3.0983866769659336)"
      ]
     },
     "execution_count": 41,
     "metadata": {},
     "output_type": "execute_result"
    }
   ],
   "source": [
    "# theoretical calculation\n",
    "x.mean(), x.std()"
   ]
  },
  {
   "cell_type": "code",
   "execution_count": 42,
   "metadata": {},
   "outputs": [
    {
     "data": {
      "text/plain": [
       "(15.68, 3.015609391151314)"
      ]
     },
     "execution_count": 42,
     "metadata": {},
     "output_type": "execute_result"
    }
   ],
   "source": [
    "# calculations from actual data\n",
    "np.mean(x.random_values()), np.std(x.random_values())"
   ]
  },
  {
   "cell_type": "code",
   "execution_count": 51,
   "metadata": {},
   "outputs": [
    {
     "data": {
      "image/png": "[encoded data removed]",
      "text/plain": [
       "<Figure size 800x560 with 1 Axes>"
      ]
     },
     "metadata": {
      "needs_background": "light"
     },
     "output_type": "display_data"
    }
   ],
   "source": [
    "plt.figure(figsize=(10,7), dpi= 80)\n",
    "plt.hist(x.random_values())\n",
    "plt.show()"
   ]
  },
  {
   "cell_type": "code",
   "execution_count": 82,
   "metadata": {},
   "outputs": [],
   "source": [
    "# plt.figure(figsize=(10,7), dpi= 80)\n",
    "# sns.distplot(x.random_values())\n",
    "# plt.show()"
   ]
  },
  {
   "cell_type": "code",
   "execution_count": null,
   "metadata": {},
   "outputs": [],
   "source": []
  },
  {
   "cell_type": "markdown",
   "metadata": {},
   "source": [
    "## Poisson distribution"
   ]
  },
  {
   "cell_type": "markdown",
   "metadata": {},
   "source": [
    "Binomial distribution describes the distribution of binary data from a finite sample. Thus it gives the probability of getting r events out of n trials.\n",
    "\n",
    "Poisson distribution describes the distribution of binary data from an infinite sample. Thus it gives the probability of getting r events in a population."
   ]
  },
  {
   "cell_type": "markdown",
   "metadata": {},
   "source": [
    "The difference between the two is that while both measure the number of certain random events (or \"successes\") within a certain frame, the Binomial is based on discrete events, while the Poisson is based on continuous events. That is, with a binomial distribution you have a certain number, 𝑛, of \"attempts,\" each of which has probability of success 𝑝. With a Poisson distribution, you essentially have infinite attempts, with infinitesimal chance of success. That is, given a Binomial distribution with some 𝑛,𝑝, if you let 𝑛→∞ and 𝑝→0 in such a way that 𝑛𝑝→𝜆, then that distribution approaches a Poisson distribution with parameter 𝜆.\n",
    "\n",
    "Because of this limiting effect, Poisson distributions are used to model occurences of events that could happen a very large number of times, but happen rarely. That is, they are used in situations that would be more properly represented by a Binomial distribution with a very large 𝑛 and small 𝑝, especially when the exact values of 𝑛 and 𝑝 are unknown."
   ]
  },
  {
   "cell_type": "markdown",
   "metadata": {},
   "source": [
    "for eg: on a given day, the probability that a person will meet with an accident is very low, say ~0.00001 (ie. 1 in 100k). However the population of the city is very large, say 5M, then average number of people meeting with an would be 50 (which is 𝜆)"
   ]
  },
  {
   "cell_type": "code",
   "execution_count": 75,
   "metadata": {},
   "outputs": [],
   "source": [
    "class poisson():\n",
    "    def __init__(self, p, size):\n",
    "        self.p = p # probability of occurence, to be a very low value\n",
    "        self.n = 10000 # fixed to be a very high value\n",
    "        self.size = size # size of distribution\n",
    "     \n",
    "    def random_values(self):\n",
    "        \"\"\"\n",
    "        random value generator\n",
    "        \"\"\"\n",
    "        dist = np.array([])\n",
    "        for i in range(0,self.size):\n",
    "            a = self.random_values_attempt()\n",
    "            dist = np.append(dist, a)\n",
    "        return dist\n",
    "\n",
    "    def random_values_attempt(self):\n",
    "        \"\"\"\n",
    "        random value generator for each attempt\n",
    "        \"\"\"\n",
    "        dist = np.array([])\n",
    "        for i in range(0,self.n):\n",
    "            if random.random() <= self.p: a=1\n",
    "            else: a=0\n",
    "            dist = np.append(dist,a)\n",
    "        return sum(dist)\n",
    "    \n",
    "    def mean(self):\n",
    "        \"\"\"\n",
    "        expected value of poisson distribution\n",
    "        \"\"\"\n",
    "        return self.p * self.n\n",
    "    \n",
    "    def var(self):\n",
    "        \"\"\"\n",
    "        variance of poisson distribution\n",
    "        \"\"\"\n",
    "        return self.p * self.n\n",
    "    \n",
    "    def std(self):\n",
    "        \"\"\"\n",
    "        standard deviation of poisson distribution\n",
    "        \"\"\"\n",
    "        return self.var()**(1/2)"
   ]
  },
  {
   "cell_type": "code",
   "execution_count": 76,
   "metadata": {},
   "outputs": [],
   "source": [
    "x = poisson(p=0.0005, size=100)"
   ]
  },
  {
   "cell_type": "code",
   "execution_count": 77,
   "metadata": {},
   "outputs": [],
   "source": [
    "y = x.random_values()"
   ]
  },
  {
   "cell_type": "code",
   "execution_count": 78,
   "metadata": {},
   "outputs": [
    {
     "data": {
      "text/plain": [
       "(5.0, 2.23606797749979)"
      ]
     },
     "execution_count": 78,
     "metadata": {},
     "output_type": "execute_result"
    }
   ],
   "source": [
    "# theoretical calculation\n",
    "x.mean(), x.std()"
   ]
  },
  {
   "cell_type": "code",
   "execution_count": 79,
   "metadata": {},
   "outputs": [
    {
     "data": {
      "text/plain": [
       "(5.37, 2.364973572791037)"
      ]
     },
     "execution_count": 79,
     "metadata": {},
     "output_type": "execute_result"
    }
   ],
   "source": [
    "# calculations from actual data\n",
    "np.mean(y), np.std(y)"
   ]
  },
  {
   "cell_type": "code",
   "execution_count": 80,
   "metadata": {},
   "outputs": [
    {
     "data": {
      "image/png": "[encoded data removed]",
      "text/plain": [
       "<Figure size 800x560 with 1 Axes>"
      ]
     },
     "metadata": {
      "needs_background": "light"
     },
     "output_type": "display_data"
    }
   ],
   "source": [
    "plt.figure(figsize=(10,7), dpi= 80)\n",
    "plt.hist(y)\n",
    "plt.show()"
   ]
  }
 ],
 "metadata": {
  "kernelspec": {
   "display_name": "Python 3",
   "language": "python",
   "name": "python3"
  },
  "language_info": {
   "codemirror_mode": {
    "name": "ipython",
    "version": 3
   },
   "file_extension": ".py",
   "mimetype": "text/x-python",
   "name": "python",
   "nbconvert_exporter": "python",
   "pygments_lexer": "ipython3",
   "version": "3.7.6"
  }
 },
 "nbformat": 4,
 "nbformat_minor": 4
}
