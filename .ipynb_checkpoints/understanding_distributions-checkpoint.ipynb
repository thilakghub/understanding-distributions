{
 "cells": [
  {
   "cell_type": "code",
   "execution_count": 182,
   "metadata": {},
   "outputs": [],
   "source": [
    "import random\n",
    "import numpy as np\n",
    "import math\n",
    "from matplotlib import pyplot as plt\n",
    "# import seaborn as sns"
   ]
  },
  {
   "cell_type": "markdown",
   "metadata": {},
   "source": [
    "# Discrete Distrbutions"
   ]
  },
  {
   "cell_type": "markdown",
   "metadata": {},
   "source": [
    "## Bernoulli distribution"
   ]
  },
  {
   "cell_type": "code",
   "execution_count": 51,
   "metadata": {},
   "outputs": [],
   "source": [
    "class bernoulli():\n",
    "    def __init__(self, p, size):\n",
    "        self.p = p # probability of occurence\n",
    "        self.size = size # size of distribution\n",
    "     \n",
    "    def random_values(self):\n",
    "        \"\"\"\n",
    "        random value generator\n",
    "        \"\"\"\n",
    "        dist = np.array([])\n",
    "        for i in range(self.size):\n",
    "            if random.random() <= self.p: a=1\n",
    "            else: a=0\n",
    "            dist = np.append(dist,a)\n",
    "        return dist\n",
    "    \n",
    "    def mean(self):\n",
    "        \"\"\"\n",
    "        expected value of bernoulli distribution\n",
    "        \"\"\"\n",
    "        return self.p\n",
    "    \n",
    "    def var(self):\n",
    "        \"\"\"\n",
    "        variance of bernoulli distribution\n",
    "        \"\"\"\n",
    "        return self.p*(1-self.p)\n",
    "    \n",
    "    def std(self):\n",
    "        \"\"\"\n",
    "        standard deviation of bernoulli distribution\n",
    "        \"\"\"\n",
    "        return self.var()**(1/2)"
   ]
  },
  {
   "cell_type": "code",
   "execution_count": 52,
   "metadata": {},
   "outputs": [],
   "source": [
    "x = bernoulli(p=0.6, size=100)"
   ]
  },
  {
   "cell_type": "code",
   "execution_count": 53,
   "metadata": {},
   "outputs": [
    {
     "data": {
      "text/plain": [
       "array([0., 1., 0., 1., 1., 0., 1., 1., 1., 1., 1., 1., 0., 0., 1., 1., 1.,\n",
       "       1., 1., 1., 1., 1., 1., 1., 0., 1., 1., 0., 1., 0., 0., 1., 0., 0.,\n",
       "       1., 1., 0., 1., 1., 0., 1., 1., 1., 1., 0., 0., 1., 1., 0., 1., 1.,\n",
       "       1., 1., 1., 1., 0., 1., 0., 1., 1., 0., 1., 0., 0., 1., 0., 0., 0.,\n",
       "       0., 1., 1., 1., 0., 1., 1., 0., 0., 1., 1., 1., 1., 1., 0., 1., 1.,\n",
       "       1., 0., 1., 1., 0., 0., 1., 0., 1., 0., 1., 1., 0., 1., 1.])"
      ]
     },
     "execution_count": 53,
     "metadata": {},
     "output_type": "execute_result"
    }
   ],
   "source": [
    "x.random_values()"
   ]
  },
  {
   "cell_type": "code",
   "execution_count": 54,
   "metadata": {},
   "outputs": [
    {
     "data": {
      "text/plain": [
       "(0.6, 0.4898979485566356)"
      ]
     },
     "execution_count": 54,
     "metadata": {},
     "output_type": "execute_result"
    }
   ],
   "source": [
    "# theoretical calculation\n",
    "x.mean(), x.std()"
   ]
  },
  {
   "cell_type": "code",
   "execution_count": 55,
   "metadata": {},
   "outputs": [
    {
     "data": {
      "text/plain": [
       "(0.64, 0.49355850717012273)"
      ]
     },
     "execution_count": 55,
     "metadata": {},
     "output_type": "execute_result"
    }
   ],
   "source": [
    "# calculations from actual data\n",
    "np.mean(x.random_values()), np.std(x.random_values())"
   ]
  },
  {
   "cell_type": "code",
   "execution_count": 56,
   "metadata": {},
   "outputs": [
    {
     "data": {
      "image/png": "[encoded data removed]",
      "text/plain": [
       "<Figure size 720x504 with 1 Axes>"
      ]
     },
     "metadata": {
      "needs_background": "light"
     },
     "output_type": "display_data"
    }
   ],
   "source": [
    "plt.figure(figsize=(10,7))\n",
    "plt.hist(x.random_values())\n",
    "plt.show()"
   ]
  },
  {
   "cell_type": "code",
   "execution_count": null,
   "metadata": {},
   "outputs": [],
   "source": []
  },
  {
   "cell_type": "markdown",
   "metadata": {},
   "source": [
    "## Binomial distribution"
   ]
  },
  {
   "cell_type": "markdown",
   "metadata": {},
   "source": [
    "The binomial distribution may be thought of as the sum of outcomes of things that follow a Bernoulli distribution. Toss a fair coin 20 times; how many times does it come up heads? This count is an outcome that follows the binomial distribution. Its parameters are n, the number of trials, and p, the probability of a “success” (here: heads, or 1). Each flip is a Bernoulli-distributed outcome, or trial"
   ]
  },
  {
   "cell_type": "code",
   "execution_count": 57,
   "metadata": {},
   "outputs": [],
   "source": [
    "class binomial():\n",
    "    def __init__(self, p, n, size):\n",
    "        self.p = p # probability of occurence\n",
    "        self.n = n # number of trials\n",
    "        self.size = size # size of distribution\n",
    "     \n",
    "    def random_values(self):\n",
    "        \"\"\"\n",
    "        random value generator\n",
    "        \"\"\"\n",
    "        dist = np.array([])\n",
    "        for i in range(0,self.size):\n",
    "            a = self.random_values_attempt()\n",
    "            dist = np.append(dist, a)\n",
    "        return dist\n",
    "\n",
    "    def random_values_attempt(self):\n",
    "        \"\"\"\n",
    "        random value generator for each attempt\n",
    "        \"\"\"\n",
    "        dist = np.array([])\n",
    "        for i in range(0,self.n):\n",
    "            if random.random() <= self.p: a=1\n",
    "            else: a=0\n",
    "            dist = np.append(dist,a)\n",
    "        return sum(dist)\n",
    "    \n",
    "    def mean(self):\n",
    "        \"\"\"\n",
    "        expected value of binomial distribution\n",
    "        \"\"\"\n",
    "        return self.n*self.p\n",
    "    \n",
    "    def var(self):\n",
    "        \"\"\"\n",
    "        variance of binomial distribution\n",
    "        \"\"\"\n",
    "        return self.n*self.p*(1-self.p)\n",
    "    \n",
    "    def std(self):\n",
    "        \"\"\"\n",
    "        standard deviation of binomial distribution\n",
    "        \"\"\"\n",
    "        return self.var()**(1/2)\n",
    "\n",
    "    def pmf(self, x):\n",
    "        \"\"\"\n",
    "        to be added\n",
    "        \"\"\"\n",
    "        return 0"
   ]
  },
  {
   "cell_type": "code",
   "execution_count": 58,
   "metadata": {},
   "outputs": [],
   "source": [
    "x = binomial(p=0.4, n=40, size=100)"
   ]
  },
  {
   "cell_type": "code",
   "execution_count": 59,
   "metadata": {},
   "outputs": [
    {
     "data": {
      "text/plain": [
       "array([13., 19., 13., 16., 18., 17., 15., 18.,  6., 15., 13., 18., 15.,\n",
       "       14., 16., 18., 15., 18., 13., 12., 14., 14., 14., 20., 14., 14.,\n",
       "       12., 20., 17., 14., 17., 21., 13., 14., 20., 16., 19., 14., 18.,\n",
       "       12., 17., 16., 20., 12., 14., 19., 22., 16., 18., 17., 17., 14.,\n",
       "       17., 19., 19., 21., 15., 15., 13., 19., 16., 15., 14., 22., 17.,\n",
       "       18., 13., 15., 20., 18., 19., 18., 15., 15., 18., 14., 21., 16.,\n",
       "       14., 16., 10., 16., 18., 13., 22., 12., 15., 16., 16., 15., 14.,\n",
       "       19., 16., 18., 12., 21., 12., 15., 14., 17.])"
      ]
     },
     "execution_count": 59,
     "metadata": {},
     "output_type": "execute_result"
    }
   ],
   "source": [
    "x.random_values()"
   ]
  },
  {
   "cell_type": "code",
   "execution_count": 60,
   "metadata": {},
   "outputs": [
    {
     "data": {
      "text/plain": [
       "(16.0, 3.0983866769659336)"
      ]
     },
     "execution_count": 60,
     "metadata": {},
     "output_type": "execute_result"
    }
   ],
   "source": [
    "# theoretical calculation\n",
    "x.mean(), x.std()"
   ]
  },
  {
   "cell_type": "code",
   "execution_count": 61,
   "metadata": {},
   "outputs": [
    {
     "data": {
      "text/plain": [
       "(16.05, 3.1796068939414512)"
      ]
     },
     "execution_count": 61,
     "metadata": {},
     "output_type": "execute_result"
    }
   ],
   "source": [
    "# calculations from actual data\n",
    "np.mean(x.random_values()), np.std(x.random_values())"
   ]
  },
  {
   "cell_type": "code",
   "execution_count": 62,
   "metadata": {},
   "outputs": [
    {
     "data": {
      "image/png": "[encoded data removed]",
      "text/plain": [
       "<Figure size 800x560 with 1 Axes>"
      ]
     },
     "metadata": {
      "needs_background": "light"
     },
     "output_type": "display_data"
    }
   ],
   "source": [
    "plt.figure(figsize=(10,7), dpi= 80)\n",
    "plt.hist(x.random_values())\n",
    "plt.show()"
   ]
  },
  {
   "cell_type": "code",
   "execution_count": 82,
   "metadata": {},
   "outputs": [],
   "source": [
    "# plt.figure(figsize=(10,7), dpi= 80)\n",
    "# sns.distplot(x.random_values())\n",
    "# plt.show()"
   ]
  },
  {
   "cell_type": "code",
   "execution_count": null,
   "metadata": {},
   "outputs": [],
   "source": []
  },
  {
   "cell_type": "markdown",
   "metadata": {},
   "source": [
    "## Poisson distribution"
   ]
  },
  {
   "cell_type": "markdown",
   "metadata": {},
   "source": [
    "Binomial distribution describes the distribution of binary data from a finite sample. Thus it gives the probability of getting r events out of n trials.\n",
    "\n",
    "Poisson distribution describes the distribution of binary data from an infinite sample. Thus it gives the probability of getting r events in a population."
   ]
  },
  {
   "cell_type": "markdown",
   "metadata": {},
   "source": [
    "The difference between the two is that while both measure the number of certain random events (or \"successes\") within a certain frame, the Binomial is based on discrete events, while the Poisson is based on continuous events. That is, with a binomial distribution you have a certain number, 𝑛, of \"attempts,\" each of which has probability of success 𝑝. With a Poisson distribution, you essentially have infinite attempts, with infinitesimal chance of success. That is, given a Binomial distribution with some 𝑛,𝑝, if you let 𝑛→∞ and 𝑝→0 in such a way that 𝑛𝑝→𝜆, then that distribution approaches a Poisson distribution with parameter 𝜆.\n",
    "\n",
    "Because of this limiting effect, Poisson distributions are used to model occurences of events that could happen a very large number of times, but happen rarely. That is, they are used in situations that would be more properly represented by a Binomial distribution with a very large 𝑛 and small 𝑝, especially when the exact values of 𝑛 and 𝑝 are unknown."
   ]
  },
  {
   "cell_type": "markdown",
   "metadata": {},
   "source": [
    "for eg: on a given day, the probability that a person will meet with an accident is very low, say ~0.00001 (ie. 1 in 100k). However the population of the city is very large, say 5M, then average number of people meeting with an would be 50 (which is 𝜆)"
   ]
  },
  {
   "cell_type": "code",
   "execution_count": 184,
   "metadata": {},
   "outputs": [],
   "source": [
    "class poisson():\n",
    "    def __init__(self, p, size):\n",
    "        self.p = p # probability of occurence, to be a very low value\n",
    "        self.n = 10000 # fixed to be a very high value\n",
    "        self.size = size # size of distribution\n",
    "     \n",
    "    def random_values(self):\n",
    "        \"\"\"\n",
    "        random value generator\n",
    "        \"\"\"\n",
    "        dist = np.array([])\n",
    "        for i in range(self.size):\n",
    "            a = self.random_values_attempt()\n",
    "            dist = np.append(dist, a)\n",
    "        return dist\n",
    "\n",
    "    def random_values_attempt(self):\n",
    "        \"\"\"\n",
    "        random value generator for each attempt\n",
    "        \"\"\"\n",
    "        dist = np.array([])\n",
    "        for i in range(self.n):\n",
    "            if random.random() <= self.p: a=1\n",
    "            else: a=0\n",
    "            dist = np.append(dist,a)\n",
    "        return sum(dist)\n",
    "    \n",
    "    def mean(self):\n",
    "        \"\"\"\n",
    "        expected value of poisson distribution\n",
    "        \"\"\"\n",
    "        return self.p * self.n\n",
    "    \n",
    "    def var(self):\n",
    "        \"\"\"\n",
    "        variance of poisson distribution\n",
    "        \"\"\"\n",
    "        return self.p * self.n\n",
    "    \n",
    "    def std(self):\n",
    "        \"\"\"\n",
    "        standard deviation of poisson distribution\n",
    "        \"\"\"\n",
    "        return self.var()**(1/2)\n",
    "\n",
    "    def pmf(self, x):\n",
    "        \"\"\"\n",
    "        standard deviation of poisson distribution\n",
    "        \"\"\"\n",
    "        return (((self.p * self.n)**x) * (math.e)**(-(self.p * self.n))) / math.factorial(int(x))"
   ]
  },
  {
   "cell_type": "code",
   "execution_count": 195,
   "metadata": {},
   "outputs": [],
   "source": [
    "x = poisson(p=0.0005, size=100)"
   ]
  },
  {
   "cell_type": "code",
   "execution_count": 196,
   "metadata": {},
   "outputs": [],
   "source": [
    "y = x.random_values()"
   ]
  },
  {
   "cell_type": "code",
   "execution_count": 197,
   "metadata": {},
   "outputs": [
    {
     "data": {
      "text/plain": [
       "(5.0, 2.23606797749979)"
      ]
     },
     "execution_count": 197,
     "metadata": {},
     "output_type": "execute_result"
    }
   ],
   "source": [
    "# theoretical calculation\n",
    "x.mean(), x.std()"
   ]
  },
  {
   "cell_type": "code",
   "execution_count": 198,
   "metadata": {},
   "outputs": [
    {
     "data": {
      "text/plain": [
       "(4.91, 2.1358604823349303)"
      ]
     },
     "execution_count": 198,
     "metadata": {},
     "output_type": "execute_result"
    }
   ],
   "source": [
    "# calculations from actual data\n",
    "np.mean(y), np.std(y)"
   ]
  },
  {
   "cell_type": "code",
   "execution_count": 201,
   "metadata": {},
   "outputs": [
    {
     "data": {
      "text/plain": [
       "(0.033689734995427344, 0.14037389581428059, 0.17546736976785074)"
      ]
     },
     "execution_count": 201,
     "metadata": {},
     "output_type": "execute_result"
    }
   ],
   "source": [
    "# theoretical pmf at x = 1, 3 and 5\n",
    "x.pmf(x=1), x.pmf(x=3), x.pmf(x=5)"
   ]
  },
  {
   "cell_type": "code",
   "execution_count": 202,
   "metadata": {},
   "outputs": [
    {
     "data": {
      "text/plain": [
       "(0.02, 0.17, 0.19)"
      ]
     },
     "execution_count": 202,
     "metadata": {},
     "output_type": "execute_result"
    }
   ],
   "source": [
    "# actual occurence of elements 1, 3 and 5 from actual data\n",
    "np.count_nonzero(y == 1)/len(y), np.count_nonzero(y == 3)/len(y), np.count_nonzero(y == 5)/len(y)"
   ]
  },
  {
   "cell_type": "code",
   "execution_count": 68,
   "metadata": {},
   "outputs": [
    {
     "data": {
      "image/png": "[encoded data removed]",
      "text/plain": [
       "<Figure size 800x560 with 1 Axes>"
      ]
     },
     "metadata": {
      "needs_background": "light"
     },
     "output_type": "display_data"
    }
   ],
   "source": [
    "plt.figure(figsize=(10,7), dpi= 80)\n",
    "plt.hist(y)\n",
    "plt.show()"
   ]
  },
  {
   "cell_type": "code",
   "execution_count": null,
   "metadata": {},
   "outputs": [],
   "source": []
  },
  {
   "cell_type": "markdown",
   "metadata": {},
   "source": [
    "## Geometric distribution"
   ]
  },
  {
   "cell_type": "markdown",
   "metadata": {},
   "source": [
    "The geometric distribution represents the number of failures before you get a success in a series of Bernoulli trials. \n",
    "For example, you ask people outside a polling station who they voted for until you find someone that voted for the independent candidate in a local election. The geometric distribution would represent the number of people who you had to poll before you found someone who voted independent. You would need to get a certain number of failures before you got your first success."
   ]
  },
  {
   "cell_type": "markdown",
   "metadata": {},
   "source": [
    "The three assumptions are:\n",
    "\n",
    "- There are two possible outcomes for each trial (success or failure)\n",
    "- The trials are independent\n",
    "- The probability of success is the same for each trial"
   ]
  },
  {
   "cell_type": "code",
   "execution_count": 233,
   "metadata": {},
   "outputs": [],
   "source": [
    "class geometric():\n",
    "    def __init__(self, p, size):\n",
    "        self.p = p # probability of occurence\n",
    "        self.n = 3600 # fixed to be a very high value\n",
    "        self.size = size # size of distribution\n",
    "     \n",
    "    def random_values(self):\n",
    "        \"\"\"\n",
    "        random value generator\n",
    "        \"\"\"\n",
    "        dist = np.array([])\n",
    "        for i in range(self.size):\n",
    "            a = self.random_values_attempt()\n",
    "            dist = np.append(dist, a)\n",
    "        return dist\n",
    "\n",
    "    def random_values_attempt(self):\n",
    "        \"\"\"\n",
    "        random value generator for each attempt\n",
    "        \"\"\"\n",
    "        for i in range(self.n):\n",
    "            if random.random() <= self.p:\n",
    "                break\n",
    "        return i+1 #adding 1 since python iterates from 0 to n-1. that is, success at i actually refers to i+1 iteration\n",
    "    \n",
    "    def mean(self):\n",
    "        \"\"\"\n",
    "        expected value of geometric distribution\n",
    "        \"\"\"\n",
    "        return 1/self.p\n",
    "    \n",
    "    def var(self):\n",
    "        \"\"\"\n",
    "        variance of geometric distribution\n",
    "        \"\"\"\n",
    "        return (1-self.p)/(self.p**2)\n",
    "    \n",
    "    def std(self):\n",
    "        \"\"\"\n",
    "        standard deviation of geometric distribution\n",
    "        \"\"\"\n",
    "        return self.var()**(1/2)\n",
    "    \n",
    "    def pmf(self, x):\n",
    "        \"\"\"\n",
    "        standard deviation of geometric distribution\n",
    "        \"\"\"\n",
    "        return ((1-self.p)**(x-1))*(self.p)"
   ]
  },
  {
   "cell_type": "code",
   "execution_count": 234,
   "metadata": {},
   "outputs": [],
   "source": [
    "x = geometric(p=0.00277, size=1000)"
   ]
  },
  {
   "cell_type": "code",
   "execution_count": 235,
   "metadata": {},
   "outputs": [],
   "source": [
    "y = x.random_values()"
   ]
  },
  {
   "cell_type": "code",
   "execution_count": 236,
   "metadata": {},
   "outputs": [
    {
     "data": {
      "text/plain": [
       "(361.01083032490976, 360.5104835945217)"
      ]
     },
     "execution_count": 236,
     "metadata": {},
     "output_type": "execute_result"
    }
   ],
   "source": [
    "# theoretical calculation\n",
    "x.mean(), x.std()"
   ]
  },
  {
   "cell_type": "code",
   "execution_count": 237,
   "metadata": {},
   "outputs": [
    {
     "data": {
      "text/plain": [
       "(355.112, 343.6590744560661)"
      ]
     },
     "execution_count": 237,
     "metadata": {},
     "output_type": "execute_result"
    }
   ],
   "source": [
    "# calculations from actual data\n",
    "np.mean(y), np.std(y)"
   ]
  },
  {
   "cell_type": "code",
   "execution_count": 208,
   "metadata": {},
   "outputs": [
    {
     "data": {
      "text/plain": [
       "(0.3, 0.14699999999999996, 0.07202999999999998)"
      ]
     },
     "execution_count": 208,
     "metadata": {},
     "output_type": "execute_result"
    }
   ],
   "source": [
    "# theoretical pmf at x = 1, 3 and 5\n",
    "x.pmf(x=1), x.pmf(x=3), x.pmf(x=5)"
   ]
  },
  {
   "cell_type": "code",
   "execution_count": 209,
   "metadata": {},
   "outputs": [
    {
     "data": {
      "text/plain": [
       "(0.31, 0.156, 0.073)"
      ]
     },
     "execution_count": 209,
     "metadata": {},
     "output_type": "execute_result"
    }
   ],
   "source": [
    "# actual occurence of elements 1, 3 and 5 from actual data\n",
    "np.count_nonzero(y == 1)/len(y), np.count_nonzero(y == 3)/len(y), np.count_nonzero(y == 5)/len(y)"
   ]
  },
  {
   "cell_type": "code",
   "execution_count": 114,
   "metadata": {},
   "outputs": [
    {
     "data": {
      "image/png": "[encoded data removed]",
      "text/plain": [
       "<Figure size 800x560 with 1 Axes>"
      ]
     },
     "metadata": {
      "needs_background": "light"
     },
     "output_type": "display_data"
    }
   ],
   "source": [
    "plt.figure(figsize=(10,7), dpi= 80)\n",
    "plt.hist(y)\n",
    "plt.show()"
   ]
  },
  {
   "cell_type": "code",
   "execution_count": null,
   "metadata": {},
   "outputs": [],
   "source": []
  },
  {
   "cell_type": "markdown",
   "metadata": {},
   "source": [
    "## Negative binomial"
   ]
  },
  {
   "cell_type": "markdown",
   "metadata": {},
   "source": [
    "The negative binomial distribution is a simple generalization of geometric. It is the number of failures until r successes have occurred, not just 1. It is therefore parameterized also by r.\n",
    "\n",
    "Sometimes it’s described as the number of successes until r failures, in which case the formula for mean and variance is different"
   ]
  },
  {
   "cell_type": "code",
   "execution_count": 148,
   "metadata": {},
   "outputs": [],
   "source": [
    "class negative_binomial():\n",
    "    def __init__(self, p, r, size):\n",
    "        self.p = p # probability of occurence\n",
    "        self.r = r # number of successes\n",
    "        self.n = 10000 # fixed to be a very high value\n",
    "        self.size = size # size of distribution\n",
    "     \n",
    "    def random_values(self):\n",
    "        \"\"\"\n",
    "        random value generator\n",
    "        \"\"\"\n",
    "        dist = np.array([])\n",
    "        for i in range(self.size):\n",
    "            a = self.random_values_attempt()\n",
    "            dist = np.append(dist, a)\n",
    "        return dist\n",
    "\n",
    "    def random_values_attempt(self):\n",
    "        \"\"\"\n",
    "        random value generator for each attempt\n",
    "        \"\"\"\n",
    "        cnt = 0\n",
    "        for i in range(self.n):\n",
    "            if random.random() <= self.p:\n",
    "                cnt += 1\n",
    "                if cnt == self.r:\n",
    "                    break\n",
    "        return i+1 #adding 1 since python iterates from 0 to n-1. that is, success at i actually refers to i+1 iteration\n",
    "    \n",
    "    def mean(self):\n",
    "        \"\"\"\n",
    "        expected value of negative binomial distribution\n",
    "        \"\"\"\n",
    "        return (self.r)/(self.p)\n",
    "    \n",
    "    def var(self):\n",
    "        \"\"\"\n",
    "        variance of negative binomial distribution\n",
    "        \"\"\"\n",
    "        return ((1-self.p) * self.r)/(self.p**2)\n",
    "    \n",
    "    def std(self):\n",
    "        \"\"\"\n",
    "        standard deviation of negative binomial distribution\n",
    "        \"\"\"\n",
    "        return self.var()**(1/2)"
   ]
  },
  {
   "cell_type": "code",
   "execution_count": 147,
   "metadata": {},
   "outputs": [],
   "source": [
    "x = negative_binomial(p=0.3, r=3, size=1000)"
   ]
  },
  {
   "cell_type": "code",
   "execution_count": 142,
   "metadata": {},
   "outputs": [],
   "source": [
    "y = x.random_values()"
   ]
  },
  {
   "cell_type": "code",
   "execution_count": 143,
   "metadata": {},
   "outputs": [
    {
     "data": {
      "text/plain": [
       "(10.0, 4.830458915396479)"
      ]
     },
     "execution_count": 143,
     "metadata": {},
     "output_type": "execute_result"
    }
   ],
   "source": [
    "# theoretical calculation\n",
    "x.mean(), x.std()"
   ]
  },
  {
   "cell_type": "code",
   "execution_count": 144,
   "metadata": {},
   "outputs": [
    {
     "data": {
      "text/plain": [
       "(9.899, 4.816928378126459)"
      ]
     },
     "execution_count": 144,
     "metadata": {},
     "output_type": "execute_result"
    }
   ],
   "source": [
    "# calculations from actual data\n",
    "np.mean(y), np.std(y)"
   ]
  },
  {
   "cell_type": "code",
   "execution_count": 145,
   "metadata": {},
   "outputs": [
    {
     "data": {
      "image/png": "[encoded data removed]",
      "text/plain": [
       "<Figure size 800x560 with 1 Axes>"
      ]
     },
     "metadata": {
      "needs_background": "light"
     },
     "output_type": "display_data"
    }
   ],
   "source": [
    "plt.figure(figsize=(10,7), dpi= 80)\n",
    "plt.hist(y)\n",
    "plt.show()"
   ]
  },
  {
   "cell_type": "code",
   "execution_count": null,
   "metadata": {},
   "outputs": [],
   "source": []
  },
  {
   "cell_type": "markdown",
   "metadata": {},
   "source": [
    "## Exponential distribution"
   ]
  },
  {
   "cell_type": "markdown",
   "metadata": {},
   "source": [
    "The exponential distribution is the probability distribution of the time between events in a Poisson point process, i.e., a process in which events occur continuously and independently at a constant average rate. It is used to model the time elapsed between events.\n",
    "\n",
    "The exponential distribution may be viewed as a continuous counterpart of the geometric distribution, which describes the number of Bernoulli trials necessary for a discrete process to change state. In contrast, the exponential distribution describes the time for a continuous process to change state."
   ]
  },
  {
   "cell_type": "code",
   "execution_count": 286,
   "metadata": {},
   "outputs": [],
   "source": [
    "class exponential():\n",
    "    def __init__(self, p, size):\n",
    "        self.p = p # probability of occurence\n",
    "        self.n = 10000 # fixed to be a very high value\n",
    "        self.size = size # size of distribution\n",
    "     \n",
    "    def random_values(self):\n",
    "        \"\"\"\n",
    "        random value generator\n",
    "        \"\"\"\n",
    "        dist = np.array([])\n",
    "        for i in range(self.size):\n",
    "            a = self.random_values_attempt()\n",
    "            dist = np.append(dist, a)\n",
    "        return dist\n",
    "\n",
    "    def random_values_attempt(self):\n",
    "        \"\"\"\n",
    "        random value generator for each attempt\n",
    "        \"\"\"\n",
    "        for i in range(self.n):\n",
    "            if random.random() <= self.p:\n",
    "                break\n",
    "        return i+1 # adding 1 since python iterates from 0 to n-1. that is, success at i actually refers to i+1 iteration\n",
    "    \n",
    "    def mean(self):\n",
    "        \"\"\"\n",
    "        expected value of exponential distribution\n",
    "        \"\"\"\n",
    "        return 1/self.p\n",
    "    \n",
    "    def var(self):\n",
    "        \"\"\"\n",
    "        variance of exponential distribution\n",
    "        \"\"\"\n",
    "        return (1/self.p**2) # since p is too small, 1-p converges to p\n",
    "    \n",
    "    def std(self):\n",
    "        \"\"\"\n",
    "        standard deviation of exponential distribution\n",
    "        \"\"\"\n",
    "        return self.var()**(1/2)\n",
    "    \n",
    "    def pdf(self, x):\n",
    "        \"\"\"\n",
    "        standard deviation of geometric distribution\n",
    "        \"\"\"\n",
    "        return self.p * (math.e**(-self.p * x))\n",
    "\n",
    "    def cdf(self, x):\n",
    "        \"\"\"\n",
    "        standard deviation of geometric distribution\n",
    "        \"\"\"\n",
    "        return 1 - (math.e**(-self.p * x))"
   ]
  },
  {
   "cell_type": "code",
   "execution_count": 287,
   "metadata": {},
   "outputs": [],
   "source": [
    "x = exponential(p=0.001, size=1000)"
   ]
  },
  {
   "cell_type": "code",
   "execution_count": 288,
   "metadata": {},
   "outputs": [],
   "source": [
    "y = x.random_values()"
   ]
  },
  {
   "cell_type": "code",
   "execution_count": 289,
   "metadata": {},
   "outputs": [
    {
     "data": {
      "text/plain": [
       "(1000.0, 1000.0)"
      ]
     },
     "execution_count": 289,
     "metadata": {},
     "output_type": "execute_result"
    }
   ],
   "source": [
    "# theoretical calculation\n",
    "x.mean(), x.std()"
   ]
  },
  {
   "cell_type": "code",
   "execution_count": 290,
   "metadata": {},
   "outputs": [
    {
     "data": {
      "text/plain": [
       "(1013.36, 1015.4697673490826)"
      ]
     },
     "execution_count": 290,
     "metadata": {},
     "output_type": "execute_result"
    }
   ],
   "source": [
    "# calculations from actual data\n",
    "np.mean(y), np.std(y)"
   ]
  },
  {
   "cell_type": "code",
   "execution_count": 291,
   "metadata": {},
   "outputs": [],
   "source": [
    "np.set_printoptions(formatter={'float_kind':'{:f}'.format})"
   ]
  },
  {
   "cell_type": "code",
   "execution_count": 292,
   "metadata": {},
   "outputs": [],
   "source": [
    "# the intervals between trials are too small, so we are increasing the scale by 100 times. we can now treat this data as continous\n",
    "y1 = y/100"
   ]
  },
  {
   "cell_type": "code",
   "execution_count": 296,
   "metadata": {},
   "outputs": [
    {
     "data": {
      "text/plain": [
       "(0.09516258196404048, 0.2591817793182821, 0.3934693402873666)"
      ]
     },
     "execution_count": 296,
     "metadata": {},
     "output_type": "execute_result"
    }
   ],
   "source": [
    "# theoretical pdf for x >= 100, x>=300 and x>=500\n",
    "x.cdf(x=100), x.cdf(x=300), x.cdf(x=500)"
   ]
  },
  {
   "cell_type": "code",
   "execution_count": 297,
   "metadata": {},
   "outputs": [
    {
     "data": {
      "text/plain": [
       "(0.098, 0.257, 0.394)"
      ]
     },
     "execution_count": 297,
     "metadata": {},
     "output_type": "execute_result"
    }
   ],
   "source": [
    "# actual count of intervals less than 1, less than 3 and less than 5\n",
    "np.count_nonzero(y1 <= 1)/len(y1), np.count_nonzero(y1 <= 3)/len(y1), np.count_nonzero(y1 <= 5)/len(y1)"
   ]
  },
  {
   "cell_type": "code",
   "execution_count": 272,
   "metadata": {},
   "outputs": [
    {
     "data": {
      "image/png": "[encoded data removed]",
      "text/plain": [
       "<Figure size 800x560 with 1 Axes>"
      ]
     },
     "metadata": {
      "needs_background": "light"
     },
     "output_type": "display_data"
    }
   ],
   "source": [
    "plt.figure(figsize=(10,7), dpi= 80)\n",
    "plt.hist(y1)\n",
    "plt.show()"
   ]
  },
  {
   "cell_type": "code",
   "execution_count": null,
   "metadata": {},
   "outputs": [],
   "source": []
  },
  {
   "cell_type": "markdown",
   "metadata": {},
   "source": [
    "Some references\n",
    "- all distributions : https://medium.com/@srowen/common-probability-distributions-347e6b945ce4\n",
    "- all distributions : https://onlinelibrary.wiley.com/doi/pdf/10.1002/9781119197096.app03\n",
    "- the exponential distribution can be thought of as a limiting case for the geometric distribution : https://math.la.asu.edu/~jtaylor/teaching/Fall2010/STP421/lectures/lecture17.pdf\n",
    "- note on the Relationship between the Geometric and Exponential Distributions : https://www.tandfonline.com/doi/abs/10.1080/00031305.1973.10478969?journalCode=utas20\n",
    "- exponential distribution : https://medium.com/@rrfd/what-is-the-exponential-distribution-a-gentle-introduction-questions-and-examples-with-python-d711d98f4b04\n",
    "- exponential distribution : https://www.youtube.com/watch?v=2kg1O0j1J9c&ab_channel=zedstatistics\n",
    "- https://github.com/graykode/distribution-is-all-you-need"
   ]
  },
  {
   "cell_type": "code",
   "execution_count": null,
   "metadata": {},
   "outputs": [],
   "source": []
  }
 ],
 "metadata": {
  "kernelspec": {
   "display_name": "Python 3",
   "language": "python",
   "name": "python3"
  },
  "language_info": {
   "codemirror_mode": {
    "name": "ipython",
    "version": 3
   },
   "file_extension": ".py",
   "mimetype": "text/x-python",
   "name": "python",
   "nbconvert_exporter": "python",
   "pygments_lexer": "ipython3",
   "version": "3.7.6"
  }
 },
 "nbformat": 4,
 "nbformat_minor": 4
}
